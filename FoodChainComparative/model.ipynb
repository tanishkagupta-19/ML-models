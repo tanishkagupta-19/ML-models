{
 "cells": [
  {
   "cell_type": "code",
   "execution_count": 61,
   "id": "e88a5181",
   "metadata": {},
   "outputs": [],
   "source": [
    "import pandas as pd\n",
    "import numpy as np\n",
    "from scipy import stats\n",
    "import matplotlib.pyplot as plt\n",
    "import seaborn as sns"
   ]
  },
  {
   "cell_type": "code",
   "execution_count": 62,
   "id": "6fb68bd6",
   "metadata": {},
   "outputs": [],
   "source": [
    "df=pd.read_csv('FoodChain_ComparativeDataset.csv')"
   ]
  },
  {
   "cell_type": "code",
   "execution_count": 63,
   "id": "f1f01195",
   "metadata": {},
   "outputs": [
    {
     "data": {
      "application/vnd.microsoft.datawrangler.viewer.v0+json": {
       "columns": [
        {
         "name": "index",
         "rawType": "object",
         "type": "string"
        },
        {
         "name": "Price1",
         "rawType": "float64",
         "type": "float"
        },
        {
         "name": "Price2",
         "rawType": "float64",
         "type": "float"
        },
        {
         "name": "Delivery_Time1",
         "rawType": "float64",
         "type": "float"
        },
        {
         "name": "Delivery_Time2",
         "rawType": "float64",
         "type": "float"
        }
       ],
       "ref": "57818fae-daf5-42bd-95bd-f8c8ea73c651",
       "rows": [
        [
         "count",
         "105.0",
         "105.0",
         "105.0",
         "105.0"
        ],
        [
         "mean",
         "198.7118095238095",
         "201.0047619047619",
         "30.331428571428567",
         "30.288571428571426"
        ],
        [
         "std",
         "8.985142948752891",
         "19.99821545380978",
         "3.046603224706363",
         "5.420621492286411"
        ],
        [
         "min",
         "173.8",
         "135.17",
         "24.2",
         "17.3"
        ],
        [
         "25%",
         "193.98",
         "187.55",
         "27.7",
         "26.4"
        ],
        [
         "50%",
         "198.14",
         "201.4",
         "30.6",
         "30.1"
        ],
        [
         "75%",
         "203.62",
         "215.18",
         "31.9",
         "33.7"
        ],
        [
         "max",
         "218.52",
         "246.29",
         "41.6",
         "43.1"
        ]
       ],
       "shape": {
        "columns": 4,
        "rows": 8
       }
      },
      "text/html": [
       "<div>\n",
       "<style scoped>\n",
       "    .dataframe tbody tr th:only-of-type {\n",
       "        vertical-align: middle;\n",
       "    }\n",
       "\n",
       "    .dataframe tbody tr th {\n",
       "        vertical-align: top;\n",
       "    }\n",
       "\n",
       "    .dataframe thead th {\n",
       "        text-align: right;\n",
       "    }\n",
       "</style>\n",
       "<table border=\"1\" class=\"dataframe\">\n",
       "  <thead>\n",
       "    <tr style=\"text-align: right;\">\n",
       "      <th></th>\n",
       "      <th>Price1</th>\n",
       "      <th>Price2</th>\n",
       "      <th>Delivery_Time1</th>\n",
       "      <th>Delivery_Time2</th>\n",
       "    </tr>\n",
       "  </thead>\n",
       "  <tbody>\n",
       "    <tr>\n",
       "      <th>count</th>\n",
       "      <td>105.000000</td>\n",
       "      <td>105.000000</td>\n",
       "      <td>105.000000</td>\n",
       "      <td>105.000000</td>\n",
       "    </tr>\n",
       "    <tr>\n",
       "      <th>mean</th>\n",
       "      <td>198.711810</td>\n",
       "      <td>201.004762</td>\n",
       "      <td>30.331429</td>\n",
       "      <td>30.288571</td>\n",
       "    </tr>\n",
       "    <tr>\n",
       "      <th>std</th>\n",
       "      <td>8.985143</td>\n",
       "      <td>19.998215</td>\n",
       "      <td>3.046603</td>\n",
       "      <td>5.420621</td>\n",
       "    </tr>\n",
       "    <tr>\n",
       "      <th>min</th>\n",
       "      <td>173.800000</td>\n",
       "      <td>135.170000</td>\n",
       "      <td>24.200000</td>\n",
       "      <td>17.300000</td>\n",
       "    </tr>\n",
       "    <tr>\n",
       "      <th>25%</th>\n",
       "      <td>193.980000</td>\n",
       "      <td>187.550000</td>\n",
       "      <td>27.700000</td>\n",
       "      <td>26.400000</td>\n",
       "    </tr>\n",
       "    <tr>\n",
       "      <th>50%</th>\n",
       "      <td>198.140000</td>\n",
       "      <td>201.400000</td>\n",
       "      <td>30.600000</td>\n",
       "      <td>30.100000</td>\n",
       "    </tr>\n",
       "    <tr>\n",
       "      <th>75%</th>\n",
       "      <td>203.620000</td>\n",
       "      <td>215.180000</td>\n",
       "      <td>31.900000</td>\n",
       "      <td>33.700000</td>\n",
       "    </tr>\n",
       "    <tr>\n",
       "      <th>max</th>\n",
       "      <td>218.520000</td>\n",
       "      <td>246.290000</td>\n",
       "      <td>41.600000</td>\n",
       "      <td>43.100000</td>\n",
       "    </tr>\n",
       "  </tbody>\n",
       "</table>\n",
       "</div>"
      ],
      "text/plain": [
       "           Price1      Price2  Delivery_Time1  Delivery_Time2\n",
       "count  105.000000  105.000000      105.000000      105.000000\n",
       "mean   198.711810  201.004762       30.331429       30.288571\n",
       "std      8.985143   19.998215        3.046603        5.420621\n",
       "min    173.800000  135.170000       24.200000       17.300000\n",
       "25%    193.980000  187.550000       27.700000       26.400000\n",
       "50%    198.140000  201.400000       30.600000       30.100000\n",
       "75%    203.620000  215.180000       31.900000       33.700000\n",
       "max    218.520000  246.290000       41.600000       43.100000"
      ]
     },
     "execution_count": 63,
     "metadata": {},
     "output_type": "execute_result"
    }
   ],
   "source": [
    "df.describe()"
   ]
  },
  {
   "cell_type": "code",
   "execution_count": 64,
   "id": "7f2e90f9",
   "metadata": {},
   "outputs": [
    {
     "name": "stdout",
     "output_type": "stream",
     "text": [
      "Range of first outlets's price 44.72\n",
      "Range of second outlets's price 111.12\n",
      "Range of first outlets's delivery time 17.400000000000002\n",
      "Range of second outlets's delivery time 25.8\n"
     ]
    }
   ],
   "source": [
    "print(\"Range of first outlets's price\",df['Price1'].max()-df['Price1'].min())\n",
    "print(\"Range of second outlets's price\",df['Price2'].max()-df['Price2'].min())\n",
    "print(\"Range of first outlets's delivery time\",df['Delivery_Time1'].max()-df['Delivery_Time1'].min())\n",
    "print(\"Range of second outlets's delivery time\",df['Delivery_Time2'].max()-df['Delivery_Time2'].min())\n"
   ]
  },
  {
   "cell_type": "code",
   "execution_count": 65,
   "id": "c76e7389",
   "metadata": {},
   "outputs": [
    {
     "name": "stdout",
     "output_type": "stream",
     "text": [
      "For price1: 9.640000000000015\n",
      "For price 2: 27.629999999999995\n",
      "For Delivery time 1: 4.199999999999999\n",
      "For Delivery time 1: 7.300000000000004\n"
     ]
    }
   ],
   "source": [
    "print(\"For price1:\",stats.iqr(df['Price1']))\n",
    "print(\"For price 2:\",stats.iqr(df['Price2']))\n",
    "print(\"For Delivery time 1:\",stats.iqr(df['Delivery_Time1']))\n",
    "print(\"For Delivery time 1:\",stats.iqr(df['Delivery_Time2']))\n",
    "#use iqr when dont want to consider outliers\n",
    "#use std deviation when want to consider outliers"
   ]
  },
  {
   "cell_type": "code",
   "execution_count": 69,
   "id": "d46d1b60",
   "metadata": {},
   "outputs": [
    {
     "name": "stdout",
     "output_type": "stream",
     "text": [
      "Mean:\n",
      " 198.7118095238095\n",
      "Median:\n",
      " 198.14\n"
     ]
    },
    {
     "data": {
      "image/png": "[encoded data removed]",
      "text/plain": [
       "<Figure size 640x480 with 1 Axes>"
      ]
     },
     "metadata": {},
     "output_type": "display_data"
    }
   ],
   "source": [
    "mean = df['Price1'].mean()\n",
    "median = df['Price1'].median()\n",
    "\n",
    "print(\"Mean:\\n\", mean)\n",
    "print(\"Median:\\n\", median)\n",
    "\n",
    "sns.histplot(df['Price1'], kde=True, bins=10, color='skyblue')\n",
    "plt.axvline(mean, color='red', linestyle='-', label=f\"Mean: {mean:.2f}\")\n",
    "plt.axvline(median, color='green', linestyle='-', label=f\"Median: {median:.2f}\")\n",
    "plt.axvspan(mean - df['Price1'].std(), mean + df['Price1'].std(), color='beige', alpha=0.3, label='1 Std Dev')\n",
    "plt.title(\"Empirical Rule Demonstration for Price1\")\n",
    "plt.legend()\n",
    "plt.show()"
   ]
  }
 ],
 "metadata": {
  "kernelspec": {
   "display_name": "Python 3",
   "language": "python",
   "name": "python3"
  },
  "language_info": {
   "codemirror_mode": {
    "name": "ipython",
    "version": 3
   },
   "file_extension": ".py",
   "mimetype": "text/x-python",
   "name": "python",
   "nbconvert_exporter": "python",
   "pygments_lexer": "ipython3",
   "version": "3.11.0"
  }
 },
 "nbformat": 4,
 "nbformat_minor": 5
}
